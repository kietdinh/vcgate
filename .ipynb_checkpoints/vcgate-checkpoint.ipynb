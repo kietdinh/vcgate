{
 "cells": [
  {
   "cell_type": "code",
   "execution_count": 1,
   "metadata": {},
   "outputs": [],
   "source": [
    "import pandas as pd\n",
    "import numpy as np"
   ]
  },
  {
   "cell_type": "code",
   "execution_count": 2,
   "metadata": {},
   "outputs": [],
   "source": [
    "df = pd.DataFrame(columns=[\"content\", \"label\"])"
   ]
  },
  {
   "cell_type": "code",
   "execution_count": 3,
   "metadata": {},
   "outputs": [],
   "source": [
    "import os"
   ]
  },
  {
   "cell_type": "code",
   "execution_count": 4,
   "metadata": {},
   "outputs": [],
   "source": [
    "encode = {}\n",
    "index = 0\n",
    "i = 0\n",
    "\n",
    "for file in os.listdir(\".\"):\n",
    "    if '.txt' not in file:\n",
    "        continue\n",
    "    label = file.split(\"_\")[0]\n",
    "    encode[label] = index\n",
    "    \n",
    "    with open(file, 'r') as f:\n",
    "        for line in f.readlines():\n",
    "            df.loc[i] = [line.strip(\" \\n\\r\\t\"), index]\n",
    "            i += 1\n",
    "            \n",
    "    index += 1"
   ]
  },
  {
   "cell_type": "code",
   "execution_count": 5,
   "metadata": {},
   "outputs": [
    {
     "data": {
      "text/plain": [
       "3656"
      ]
     },
     "execution_count": 5,
     "metadata": {},
     "output_type": "execute_result"
    }
   ],
   "source": [
    "len(df)"
   ]
  },
  {
   "cell_type": "code",
   "execution_count": 6,
   "metadata": {},
   "outputs": [
    {
     "data": {
      "text/plain": [
       "array([0, 1, 2, 3, 4, 5, 6, 7, 8, 9], dtype=object)"
      ]
     },
     "execution_count": 6,
     "metadata": {},
     "output_type": "execute_result"
    }
   ],
   "source": [
    "df['label'].unique()"
   ]
  },
  {
   "cell_type": "code",
   "execution_count": 7,
   "metadata": {},
   "outputs": [
    {
     "data": {
      "text/html": [
       "<div>\n",
       "<style scoped>\n",
       "    .dataframe tbody tr th:only-of-type {\n",
       "        vertical-align: middle;\n",
       "    }\n",
       "\n",
       "    .dataframe tbody tr th {\n",
       "        vertical-align: top;\n",
       "    }\n",
       "\n",
       "    .dataframe thead th {\n",
       "        text-align: right;\n",
       "    }\n",
       "</style>\n",
       "<table border=\"1\" class=\"dataframe\">\n",
       "  <thead>\n",
       "    <tr style=\"text-align: right;\">\n",
       "      <th></th>\n",
       "      <th>content</th>\n",
       "      <th>label</th>\n",
       "    </tr>\n",
       "  </thead>\n",
       "  <tbody>\n",
       "    <tr>\n",
       "      <th>0</th>\n",
       "      <td>VNU, UIT, Dept Comp Engn, Ho Chi Minh City, Vi...</td>\n",
       "      <td>0</td>\n",
       "    </tr>\n",
       "    <tr>\n",
       "      <th>1</th>\n",
       "      <td>Vietnam Natl Univ HCMC, Univ Sci, Dept Optimiz...</td>\n",
       "      <td>0</td>\n",
       "    </tr>\n",
       "    <tr>\n",
       "      <th>2</th>\n",
       "      <td>Univ Sci, Lab Adv Mat, VNU HCM, Ho Chi Minh Ci...</td>\n",
       "      <td>0</td>\n",
       "    </tr>\n",
       "    <tr>\n",
       "      <th>3</th>\n",
       "      <td>Vietnam Natl Univ Ho Chi Minh City, Univ Sci, ...</td>\n",
       "      <td>0</td>\n",
       "    </tr>\n",
       "    <tr>\n",
       "      <th>4</th>\n",
       "      <td>Viet Nam Natl Univ Ho Chi Minh City, Linh Trun...</td>\n",
       "      <td>0</td>\n",
       "    </tr>\n",
       "  </tbody>\n",
       "</table>\n",
       "</div>"
      ],
      "text/plain": [
       "                                             content label\n",
       "0  VNU, UIT, Dept Comp Engn, Ho Chi Minh City, Vi...     0\n",
       "1  Vietnam Natl Univ HCMC, Univ Sci, Dept Optimiz...     0\n",
       "2  Univ Sci, Lab Adv Mat, VNU HCM, Ho Chi Minh Ci...     0\n",
       "3  Vietnam Natl Univ Ho Chi Minh City, Univ Sci, ...     0\n",
       "4  Viet Nam Natl Univ Ho Chi Minh City, Linh Trun...     0"
      ]
     },
     "execution_count": 7,
     "metadata": {},
     "output_type": "execute_result"
    }
   ],
   "source": [
    "df.head()"
   ]
  },
  {
   "cell_type": "code",
   "execution_count": 8,
   "metadata": {},
   "outputs": [],
   "source": [
    "df = df.sample(frac=1).reset_index(drop=True)"
   ]
  },
  {
   "cell_type": "code",
   "execution_count": 9,
   "metadata": {},
   "outputs": [
    {
     "data": {
      "text/html": [
       "<div>\n",
       "<style scoped>\n",
       "    .dataframe tbody tr th:only-of-type {\n",
       "        vertical-align: middle;\n",
       "    }\n",
       "\n",
       "    .dataframe tbody tr th {\n",
       "        vertical-align: top;\n",
       "    }\n",
       "\n",
       "    .dataframe thead th {\n",
       "        text-align: right;\n",
       "    }\n",
       "</style>\n",
       "<table border=\"1\" class=\"dataframe\">\n",
       "  <thead>\n",
       "    <tr style=\"text-align: right;\">\n",
       "      <th></th>\n",
       "      <th>content</th>\n",
       "      <th>label</th>\n",
       "    </tr>\n",
       "  </thead>\n",
       "  <tbody>\n",
       "    <tr>\n",
       "      <th>0</th>\n",
       "      <td>Hanoi Univ Sci &amp; Technol, Sch Chem Engn, 1 Dai...</td>\n",
       "      <td>8</td>\n",
       "    </tr>\n",
       "    <tr>\n",
       "      <th>1</th>\n",
       "      <td>Natl Univ Sci Ho Chi Minh City, Dept Organ Che...</td>\n",
       "      <td>0</td>\n",
       "    </tr>\n",
       "    <tr>\n",
       "      <th>2</th>\n",
       "      <td>HCM Natl Univ, Ho Chi Minh City Univ Technol, ...</td>\n",
       "      <td>0</td>\n",
       "    </tr>\n",
       "    <tr>\n",
       "      <th>3</th>\n",
       "      <td>Hue Univ, Fac Hospital &amp; Tourism, 22 Lam Hoang...</td>\n",
       "      <td>7</td>\n",
       "    </tr>\n",
       "    <tr>\n",
       "      <th>4</th>\n",
       "      <td>Vietnam Acad Sci &amp; Technol, Southern Inst Ecol...</td>\n",
       "      <td>1</td>\n",
       "    </tr>\n",
       "  </tbody>\n",
       "</table>\n",
       "</div>"
      ],
      "text/plain": [
       "                                             content label\n",
       "0  Hanoi Univ Sci & Technol, Sch Chem Engn, 1 Dai...     8\n",
       "1  Natl Univ Sci Ho Chi Minh City, Dept Organ Che...     0\n",
       "2  HCM Natl Univ, Ho Chi Minh City Univ Technol, ...     0\n",
       "3  Hue Univ, Fac Hospital & Tourism, 22 Lam Hoang...     7\n",
       "4  Vietnam Acad Sci & Technol, Southern Inst Ecol...     1"
      ]
     },
     "execution_count": 9,
     "metadata": {},
     "output_type": "execute_result"
    }
   ],
   "source": [
    "df.head()"
   ]
  },
  {
   "cell_type": "code",
   "execution_count": 10,
   "metadata": {},
   "outputs": [],
   "source": [
    "n = int(len(df) * 0.3)"
   ]
  },
  {
   "cell_type": "code",
   "execution_count": 11,
   "metadata": {},
   "outputs": [],
   "source": [
    "df['num_words'] = df['content'].apply(lambda s: len(s.split()))\n",
    "df['num_unique_words'] = df['content'].apply(lambda s: len(set(w for w in s.split())))\n",
    "df['words_vs_unique'] = df['num_unique_words'] / (df['num_words']+1) * 100"
   ]
  },
  {
   "cell_type": "code",
   "execution_count": 12,
   "metadata": {},
   "outputs": [],
   "source": [
    "train = df[n:]"
   ]
  },
  {
   "cell_type": "code",
   "execution_count": 13,
   "metadata": {},
   "outputs": [],
   "source": [
    "test = df[:n]"
   ]
  },
  {
   "cell_type": "code",
   "execution_count": 14,
   "metadata": {},
   "outputs": [
    {
     "data": {
      "text/plain": [
       "3656"
      ]
     },
     "execution_count": 14,
     "metadata": {},
     "output_type": "execute_result"
    }
   ],
   "source": [
    "len(train) + len(test)"
   ]
  },
  {
   "cell_type": "code",
   "execution_count": 15,
   "metadata": {},
   "outputs": [],
   "source": [
    "train.to_csv(\"train.csv\", index=False)"
   ]
  },
  {
   "cell_type": "code",
   "execution_count": 16,
   "metadata": {},
   "outputs": [],
   "source": [
    "test.to_csv(\"test.csv\", index=False)"
   ]
  },
  {
   "cell_type": "code",
   "execution_count": 17,
   "metadata": {},
   "outputs": [],
   "source": [
    "from sklearn.feature_extraction.text import TfidfVectorizer, CountVectorizer"
   ]
  },
  {
   "cell_type": "code",
   "execution_count": 18,
   "metadata": {},
   "outputs": [],
   "source": [
    "tfidf = TfidfVectorizer(\n",
    "    min_df = 3, \n",
    "    max_df = 0.5, \n",
    "    ngram_range=(1,3),\n",
    "    use_idf=True,\n",
    "    sublinear_tf=True\n",
    ")"
   ]
  },
  {
   "cell_type": "code",
   "execution_count": 19,
   "metadata": {},
   "outputs": [],
   "source": [
    "X_train_tfidf = tfidf.fit_transform(train['content'])\n",
    "X_test_tfidf = tfidf.transform(test['content'])"
   ]
  },
  {
   "cell_type": "code",
   "execution_count": 20,
   "metadata": {},
   "outputs": [
    {
     "data": {
      "text/plain": [
       "(2560, 3302)"
      ]
     },
     "execution_count": 20,
     "metadata": {},
     "output_type": "execute_result"
    }
   ],
   "source": [
    "X_train_tfidf.shape"
   ]
  },
  {
   "cell_type": "code",
   "execution_count": 21,
   "metadata": {},
   "outputs": [],
   "source": [
    "EXCLUED_COLS = ['content', 'label']\n",
    "static_cols = [c for c in train.columns if not c in EXCLUED_COLS]\n",
    "X_train_static = train[static_cols].values\n",
    "X_test_static = test[static_cols].values"
   ]
  },
  {
   "cell_type": "code",
   "execution_count": 22,
   "metadata": {},
   "outputs": [],
   "source": [
    "from scipy.sparse import hstack, csr_matrix, vstack"
   ]
  },
  {
   "cell_type": "code",
   "execution_count": 23,
   "metadata": {},
   "outputs": [],
   "source": [
    "X_train = hstack([X_train_tfidf, csr_matrix(X_train_static)]).tocsr()\n",
    "X_test = hstack([X_test_tfidf, csr_matrix(X_test_static)]).tocsr()"
   ]
  },
  {
   "cell_type": "code",
   "execution_count": 28,
   "metadata": {},
   "outputs": [],
   "source": [
    "from sklearn.ensemble import RandomForestClassifier, GradientBoostingClassifier, ExtraTreesClassifier\n",
    "from sklearn.metrics import f1_score, confusion_matrix, accuracy_score\n",
    "from sklearn.linear_model import LogisticRegression\n",
    "from sklearn.neighbors import KNeighborsClassifier"
   ]
  },
  {
   "cell_type": "code",
   "execution_count": 25,
   "metadata": {},
   "outputs": [],
   "source": [
    "clfs = {\n",
    "    \"RF\": RandomForestClassifier(n_estimators=200, min_samples_leaf=2, max_depth=7, max_features=0.7, random_state=42, n_jobs=-1),\n",
    "    \"GB\": GradientBoostingClassifier(n_estimators=200, min_samples_split=2, max_depth=5, max_features=0.7, random_state=111),\n",
    "    \"LR\": LogisticRegression(penalty='l2', C=1.0),\n",
    "}"
   ]
  },
  {
   "cell_type": "code",
   "execution_count": 26,
   "metadata": {},
   "outputs": [
    {
     "name": "stdout",
     "output_type": "stream",
     "text": [
      "RF\n",
      "F1 0.95546875\n",
      "CM [[480   0   0   0   0   0   0   0   0   0]\n",
      " [ 18 549   0   0   0   0   0   0   1  22]\n",
      " [  3   0   0   0   0   0   0   0   0  13]\n",
      " [  1   0   0  54   0   0   0   0   0   2]\n",
      " [ 13   0   0   0 159   0   0   0   0   2]\n",
      " [  0   0   0   0   0 231   0   0   0   0]\n",
      " [ 10   0   0   0   0   0 106   0   0   1]\n",
      " [  0   0   0   0   0   0   0 175   0   1]\n",
      " [  0   0   0   0   0   0   0   0 257  18]\n",
      " [  8   0   0   0   0   0   0   0   1 435]]\n",
      "ACC 0.95546875\n",
      "F1 0.9434306569343066\n",
      "CM [[199   1   0   0   0   0   0   0   0   0]\n",
      " [ 10 228   0   0   0   0   0   0   3  12]\n",
      " [  2   0   0   0   0   0   0   0   0   5]\n",
      " [  0   0   0  18   0   0   0   0   0   4]\n",
      " [  7   0   0   0  53   0   0   0   0   0]\n",
      " [  2   0   0   0   0 110   0   0   0   0]\n",
      " [  3   0   0   0   0   0  37   0   0   0]\n",
      " [  0   0   0   0   0   0   0  86   0   0]\n",
      " [  1   0   0   0   0   0   0   0 110  10]\n",
      " [  2   0   0   0   0   0   0   0   0 193]]\n",
      "ACC 0.9434306569343066\n",
      "GB\n",
      "F1 0.999609375\n",
      "CM [[479   0   0   0   0   0   0   0   0   1]\n",
      " [  0 590   0   0   0   0   0   0   0   0]\n",
      " [  0   0  16   0   0   0   0   0   0   0]\n",
      " [  0   0   0  57   0   0   0   0   0   0]\n",
      " [  0   0   0   0 174   0   0   0   0   0]\n",
      " [  0   0   0   0   0 231   0   0   0   0]\n",
      " [  0   0   0   0   0   0 117   0   0   0]\n",
      " [  0   0   0   0   0   0   0 176   0   0]\n",
      " [  0   0   0   0   0   0   0   0 275   0]\n",
      " [  0   0   0   0   0   0   0   0   0 444]]\n",
      "ACC 0.999609375\n",
      "F1 0.9872262773722628\n",
      "CM [[200   0   0   0   0   0   0   0   0   0]\n",
      " [  0 249   0   0   0   0   0   0   0   4]\n",
      " [  0   0   7   0   0   0   0   0   0   0]\n",
      " [  0   0   0  19   0   0   0   0   0   3]\n",
      " [  0   0   0   0  60   0   0   0   0   0]\n",
      " [  1   0   0   0   0 111   0   0   0   0]\n",
      " [  0   1   0   0   0   0  39   0   0   0]\n",
      " [  0   0   0   0   0   0   0  86   0   0]\n",
      " [  0   2   0   0   0   0   0   0 117   2]\n",
      " [  0   1   0   0   0   0   0   0   0 194]]\n",
      "ACC 0.9872262773722628\n",
      "LR\n"
     ]
    },
    {
     "name": "stderr",
     "output_type": "stream",
     "text": [
      "/Users/nguyenthikhanhlinh/anaconda3/lib/python3.6/site-packages/sklearn/linear_model/logistic.py:433: FutureWarning: Default solver will be changed to 'lbfgs' in 0.22. Specify a solver to silence this warning.\n",
      "  FutureWarning)\n",
      "/Users/nguyenthikhanhlinh/anaconda3/lib/python3.6/site-packages/sklearn/linear_model/logistic.py:460: FutureWarning: Default multi_class will be changed to 'auto' in 0.22. Specify the multi_class option to silence this warning.\n",
      "  \"this warning.\", FutureWarning)\n"
     ]
    },
    {
     "name": "stdout",
     "output_type": "stream",
     "text": [
      "F1 0.992578125\n",
      "CM [[480   0   0   0   0   0   0   0   0   0]\n",
      " [  2 586   0   0   0   0   0   0   0   2]\n",
      " [  0   0  10   0   0   0   0   0   0   6]\n",
      " [  0   0   0  55   0   0   0   0   1   1]\n",
      " [  0   0   0   0 172   0   0   0   0   2]\n",
      " [  0   0   0   0   0 231   0   0   0   0]\n",
      " [  0   0   0   0   0   0 117   0   0   0]\n",
      " [  0   0   0   0   0   0   0 176   0   0]\n",
      " [  0   0   0   0   0   0   0   0 271   4]\n",
      " [  1   0   0   0   0   0   0   0   0 443]]\n",
      "ACC 0.992578125\n",
      "F1 0.9881386861313869\n",
      "CM [[200   0   0   0   0   0   0   0   0   0]\n",
      " [  1 252   0   0   0   0   0   0   0   0]\n",
      " [  0   0   4   0   0   0   0   0   0   3]\n",
      " [  0   0   0  18   0   1   0   0   0   3]\n",
      " [  0   0   0   0  60   0   0   0   0   0]\n",
      " [  1   0   0   0   0 111   0   0   0   0]\n",
      " [  0   0   0   0   0   0  40   0   0   0]\n",
      " [  0   0   0   0   0   0   0  86   0   0]\n",
      " [  1   0   0   0   0   0   0   0 117   3]\n",
      " [  0   0   0   0   0   0   0   0   0 195]]\n",
      "ACC 0.9881386861313869\n"
     ]
    }
   ],
   "source": [
    "for name, clf in clfs.items():\n",
    "    print(name)\n",
    "    y_true = train['label'].astype('int')\n",
    "    clf.fit(X_train, y_true)\n",
    "    y_pred = clf.predict(X_train)\n",
    "    \n",
    "    print(\"F1\", f1_score(y_true, y_pred, average=\"micro\"))\n",
    "    print(\"CM\", confusion_matrix(y_true, y_pred))\n",
    "    print(\"ACC\", accuracy_score(y_true, y_pred))\n",
    "    \n",
    "    y_true = test['label'].astype('int')\n",
    "    y_pred = clf.predict(X_test)\n",
    "    \n",
    "    print(\"F1\", f1_score(y_true, y_pred, average=\"micro\"))\n",
    "    print(\"CM\", confusion_matrix(y_true, y_pred))\n",
    "    print(\"ACC\", accuracy_score(y_true, y_pred))"
   ]
  },
  {
   "cell_type": "code",
   "execution_count": 29,
   "metadata": {},
   "outputs": [],
   "source": [
    "models=[ \n",
    "    ######## First level ########\n",
    "    [\n",
    "        RandomForestClassifier(n_estimators=200, min_samples_leaf=2, max_depth=7, max_features=0.7, random_state=42, n_jobs=-1),        \n",
    "        ExtraTreesClassifier (n_estimators=200, min_samples_leaf=2, max_depth=7, max_features=0.7, random_state=42, n_jobs=-1),\n",
    "        GradientBoostingClassifier(n_estimators=200, min_samples_split=2, max_depth=5, max_features=0.7, random_state=111),\n",
    "        LogisticRegression(penalty='l2', C=1.0),\n",
    "    ],\n",
    "    ######## Second level ########\n",
    "    [\n",
    "        RandomForestClassifier (n_estimators=200, min_samples_leaf=2, max_depth=30, max_features=0.7, random_state=421, n_jobs=-1)\n",
    "    ]\n",
    "]"
   ]
  },
  {
   "cell_type": "code",
   "execution_count": 32,
   "metadata": {},
   "outputs": [
    {
     "name": "stdout",
     "output_type": "stream",
     "text": [
      "====================== Start of Level 0 ======================\n",
      "Input Dimensionality 3305 at Level 0 \n",
      "4 models included in Level 0 \n"
     ]
    },
    {
     "name": "stderr",
     "output_type": "stream",
     "text": [
      "/Users/nguyenthikhanhlinh/anaconda3/lib/python3.6/site-packages/sklearn/linear_model/logistic.py:433: FutureWarning: Default solver will be changed to 'lbfgs' in 0.22. Specify a solver to silence this warning.\n",
      "  FutureWarning)\n",
      "/Users/nguyenthikhanhlinh/anaconda3/lib/python3.6/site-packages/sklearn/linear_model/logistic.py:460: FutureWarning: Default multi_class will be changed to 'auto' in 0.22. Specify the multi_class option to silence this warning.\n",
      "  \"this warning.\", FutureWarning)\n"
     ]
    },
    {
     "name": "stdout",
     "output_type": "stream",
     "text": [
      "Level 0, fold 1/5 , model 0 , accuracy===0.947266 \n",
      "Level 0, fold 1/5 , model 1 , accuracy===0.912109 \n",
      "Level 0, fold 1/5 , model 2 , accuracy===0.984375 \n",
      "Level 0, fold 1/5 , model 3 , accuracy===0.982422 \n",
      "=========== end of fold 1 in level 0 ===========\n"
     ]
    },
    {
     "name": "stderr",
     "output_type": "stream",
     "text": [
      "/Users/nguyenthikhanhlinh/anaconda3/lib/python3.6/site-packages/sklearn/linear_model/logistic.py:433: FutureWarning: Default solver will be changed to 'lbfgs' in 0.22. Specify a solver to silence this warning.\n",
      "  FutureWarning)\n",
      "/Users/nguyenthikhanhlinh/anaconda3/lib/python3.6/site-packages/sklearn/linear_model/logistic.py:460: FutureWarning: Default multi_class will be changed to 'auto' in 0.22. Specify the multi_class option to silence this warning.\n",
      "  \"this warning.\", FutureWarning)\n"
     ]
    },
    {
     "name": "stdout",
     "output_type": "stream",
     "text": [
      "Level 0, fold 2/5 , model 0 , accuracy===0.947266 \n",
      "Level 0, fold 2/5 , model 1 , accuracy===0.904297 \n",
      "Level 0, fold 2/5 , model 2 , accuracy===0.986328 \n",
      "Level 0, fold 2/5 , model 3 , accuracy===0.982422 \n",
      "=========== end of fold 2 in level 0 ===========\n"
     ]
    },
    {
     "name": "stderr",
     "output_type": "stream",
     "text": [
      "/Users/nguyenthikhanhlinh/anaconda3/lib/python3.6/site-packages/sklearn/linear_model/logistic.py:433: FutureWarning: Default solver will be changed to 'lbfgs' in 0.22. Specify a solver to silence this warning.\n",
      "  FutureWarning)\n",
      "/Users/nguyenthikhanhlinh/anaconda3/lib/python3.6/site-packages/sklearn/linear_model/logistic.py:460: FutureWarning: Default multi_class will be changed to 'auto' in 0.22. Specify the multi_class option to silence this warning.\n",
      "  \"this warning.\", FutureWarning)\n"
     ]
    },
    {
     "name": "stdout",
     "output_type": "stream",
     "text": [
      "Level 0, fold 3/5 , model 0 , accuracy===0.957031 \n",
      "Level 0, fold 3/5 , model 1 , accuracy===0.919922 \n",
      "Level 0, fold 3/5 , model 2 , accuracy===0.984375 \n",
      "Level 0, fold 3/5 , model 3 , accuracy===0.982422 \n",
      "=========== end of fold 3 in level 0 ===========\n"
     ]
    },
    {
     "name": "stderr",
     "output_type": "stream",
     "text": [
      "/Users/nguyenthikhanhlinh/anaconda3/lib/python3.6/site-packages/sklearn/linear_model/logistic.py:433: FutureWarning: Default solver will be changed to 'lbfgs' in 0.22. Specify a solver to silence this warning.\n",
      "  FutureWarning)\n",
      "/Users/nguyenthikhanhlinh/anaconda3/lib/python3.6/site-packages/sklearn/linear_model/logistic.py:460: FutureWarning: Default multi_class will be changed to 'auto' in 0.22. Specify the multi_class option to silence this warning.\n",
      "  \"this warning.\", FutureWarning)\n"
     ]
    },
    {
     "name": "stdout",
     "output_type": "stream",
     "text": [
      "Level 0, fold 4/5 , model 0 , accuracy===0.958984 \n",
      "Level 0, fold 4/5 , model 1 , accuracy===0.910156 \n",
      "Level 0, fold 4/5 , model 2 , accuracy===0.992188 \n",
      "Level 0, fold 4/5 , model 3 , accuracy===0.992188 \n",
      "=========== end of fold 4 in level 0 ===========\n"
     ]
    },
    {
     "name": "stderr",
     "output_type": "stream",
     "text": [
      "/Users/nguyenthikhanhlinh/anaconda3/lib/python3.6/site-packages/sklearn/linear_model/logistic.py:433: FutureWarning: Default solver will be changed to 'lbfgs' in 0.22. Specify a solver to silence this warning.\n",
      "  FutureWarning)\n",
      "/Users/nguyenthikhanhlinh/anaconda3/lib/python3.6/site-packages/sklearn/linear_model/logistic.py:460: FutureWarning: Default multi_class will be changed to 'auto' in 0.22. Specify the multi_class option to silence this warning.\n",
      "  \"this warning.\", FutureWarning)\n"
     ]
    },
    {
     "name": "stdout",
     "output_type": "stream",
     "text": [
      "Level 0, fold 5/5 , model 0 , accuracy===0.957031 \n",
      "Level 0, fold 5/5 , model 1 , accuracy===0.906250 \n",
      "Level 0, fold 5/5 , model 2 , accuracy===0.994141 \n",
      "Level 0, fold 5/5 , model 3 , accuracy===0.986328 \n",
      "=========== end of fold 5 in level 0 ===========\n",
      "Level 0, model 0 , accuracy===0.953516 \n",
      "Level 0, model 1 , accuracy===0.910547 \n",
      "Level 0, model 2 , accuracy===0.988281 \n",
      "Level 0, model 3 , accuracy===0.985156 \n"
     ]
    },
    {
     "name": "stderr",
     "output_type": "stream",
     "text": [
      "/Users/nguyenthikhanhlinh/anaconda3/lib/python3.6/site-packages/sklearn/linear_model/logistic.py:433: FutureWarning: Default solver will be changed to 'lbfgs' in 0.22. Specify a solver to silence this warning.\n",
      "  FutureWarning)\n",
      "/Users/nguyenthikhanhlinh/anaconda3/lib/python3.6/site-packages/sklearn/linear_model/logistic.py:460: FutureWarning: Default multi_class will be changed to 'auto' in 0.22. Specify the multi_class option to silence this warning.\n",
      "  \"this warning.\", FutureWarning)\n"
     ]
    },
    {
     "name": "stdout",
     "output_type": "stream",
     "text": [
      "Output dimensionality of level 0 is 40 \n",
      "====================== End of Level 0 ======================\n",
      " level 0 lasted 128.304944 seconds \n",
      "====================== Start of Level 1 ======================\n",
      "Input Dimensionality 40 at Level 1 \n",
      "1 models included in Level 1 \n",
      "Level 1, fold 1/5 , model 0 , accuracy===0.990234 \n",
      "=========== end of fold 1 in level 1 ===========\n",
      "Level 1, fold 2/5 , model 0 , accuracy===0.994141 \n",
      "=========== end of fold 2 in level 1 ===========\n",
      "Level 1, fold 3/5 , model 0 , accuracy===0.988281 \n",
      "=========== end of fold 3 in level 1 ===========\n",
      "Level 1, fold 4/5 , model 0 , accuracy===0.994141 \n",
      "=========== end of fold 4 in level 1 ===========\n",
      "Level 1, fold 5/5 , model 0 , accuracy===0.998047 \n",
      "=========== end of fold 5 in level 1 ===========\n",
      "Level 1, model 0 , accuracy===0.992969 \n",
      "Output dimensionality of level 1 is 10 \n",
      "====================== End of Level 1 ======================\n",
      " level 1 lasted 7.630138 seconds \n",
      "====================== End of fit ======================\n",
      " fit() lasted 135.936552 seconds \n",
      "====================== Start of Level 0 ======================\n",
      "1 estimators included in Level 0 \n",
      "====================== Start of Level 1 ======================\n",
      "1 estimators included in Level 1 \n"
     ]
    }
   ],
   "source": [
    "from pystacknet.pystacknet import StackNetClassifier\n",
    "\n",
    "model = StackNetClassifier(\n",
    "    models, metric=\"accuracy\", \n",
    "    folds=5,\n",
    "    restacking=False, \n",
    "    use_retraining=True, \n",
    "    use_proba=True, \n",
    "    random_state=12345, n_jobs=1, verbose=1\n",
    ")\n",
    "\n",
    "y_train = train['label'].astype('int')\n",
    "model.fit(X_train, y_train)\n",
    "preds=model.predict_proba(X_test)"
   ]
  },
  {
   "cell_type": "code",
   "execution_count": 35,
   "metadata": {},
   "outputs": [],
   "source": [
    "pred_cls = np.argmax(preds, axis=1)\n",
    "y_true = test['label'].astype('int')"
   ]
  },
  {
   "cell_type": "code",
   "execution_count": 36,
   "metadata": {},
   "outputs": [
    {
     "name": "stdout",
     "output_type": "stream",
     "text": [
      "F1 0.9917883211678832\n",
      "CM [[200   0   0   0   0   0   0   0   0   0]\n",
      " [  0 253   0   0   0   0   0   0   0   0]\n",
      " [  0   0   7   0   0   0   0   0   0   0]\n",
      " [  0   0   0  18   0   0   0   0   1   3]\n",
      " [  0   0   0   0  60   0   0   0   0   0]\n",
      " [  2   0   0   0   0 110   0   0   0   0]\n",
      " [  0   0   0   0   0   0  40   0   0   0]\n",
      " [  0   0   0   0   0   0   0  86   0   0]\n",
      " [  0   1   0   0   0   0   0   0 119   1]\n",
      " [  0   1   0   0   0   0   0   0   0 194]]\n",
      "ACC 0.9917883211678832\n"
     ]
    }
   ],
   "source": [
    "print(\"F1\", f1_score(y_true, pred_cls, average=\"micro\"))\n",
    "print(\"CM\", confusion_matrix(y_true, pred_cls))\n",
    "print(\"ACC\", accuracy_score(y_true, pred_cls))"
   ]
  },
  {
   "cell_type": "code",
   "execution_count": 37,
   "metadata": {},
   "outputs": [],
   "source": [
    "final_model = clfs[\"GB\"]"
   ]
  },
  {
   "cell_type": "code",
   "execution_count": 39,
   "metadata": {},
   "outputs": [],
   "source": [
    "import pickle"
   ]
  },
  {
   "cell_type": "code",
   "execution_count": 40,
   "metadata": {},
   "outputs": [],
   "source": [
    "with open('vcgate_gradient_boosting.pkl', 'wb') as f:\n",
    "    pickle.dump(final_model, f)"
   ]
  },
  {
   "cell_type": "code",
   "execution_count": null,
   "metadata": {},
   "outputs": [],
   "source": []
  }
 ],
 "metadata": {
  "kernelspec": {
   "display_name": "Python 3",
   "language": "python",
   "name": "python3"
  },
  "language_info": {
   "codemirror_mode": {
    "name": "ipython",
    "version": 3
   },
   "file_extension": ".py",
   "mimetype": "text/x-python",
   "name": "python",
   "nbconvert_exporter": "python",
   "pygments_lexer": "ipython3",
   "version": "3.6.4"
  }
 },
 "nbformat": 4,
 "nbformat_minor": 2
}
