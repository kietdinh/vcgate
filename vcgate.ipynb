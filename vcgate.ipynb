{
 "cells": [
  {
   "cell_type": "code",
   "execution_count": 1,
   "metadata": {},
   "outputs": [],
   "source": [
    "import pandas as pd\n",
    "import numpy as np"
   ]
  },
  {
   "cell_type": "code",
   "execution_count": 2,
   "metadata": {},
   "outputs": [],
   "source": [
    "df = pd.DataFrame(columns=[\"content\", \"label\"])"
   ]
  },
  {
   "cell_type": "code",
   "execution_count": 3,
   "metadata": {},
   "outputs": [],
   "source": [
    "import os"
   ]
  },
  {
   "cell_type": "code",
   "execution_count": 4,
   "metadata": {},
   "outputs": [],
   "source": [
    "encode = {}\n",
    "index = 0\n",
    "i = 0\n",
    "\n",
    "for file in os.listdir(\".\"):\n",
    "    if '.txt' not in file:\n",
    "        continue\n",
    "    label = file.split(\"_\")[0]\n",
    "    encode[label] = index\n",
    "    \n",
    "    with open(file, 'r') as f:\n",
    "        for line in f.readlines():\n",
    "            df.loc[i] = [line.strip(\" \\n\\r\\t\"), index]\n",
    "            i += 1\n",
    "            \n",
    "    index += 1"
   ]
  },
  {
   "cell_type": "code",
   "execution_count": 5,
   "metadata": {},
   "outputs": [
    {
     "data": {
      "text/plain": [
       "3656"
      ]
     },
     "execution_count": 5,
     "metadata": {},
     "output_type": "execute_result"
    }
   ],
   "source": [
    "len(df)"
   ]
  },
  {
   "cell_type": "code",
   "execution_count": 6,
   "metadata": {},
   "outputs": [
    {
     "data": {
      "text/plain": [
       "array([0, 1, 2, 3, 4, 5, 6, 7, 8, 9], dtype=object)"
      ]
     },
     "execution_count": 6,
     "metadata": {},
     "output_type": "execute_result"
    }
   ],
   "source": [
    "df['label'].unique()"
   ]
  },
  {
   "cell_type": "code",
   "execution_count": 7,
   "metadata": {},
   "outputs": [
    {
     "data": {
      "text/html": [
       "<div>\n",
       "<style scoped>\n",
       "    .dataframe tbody tr th:only-of-type {\n",
       "        vertical-align: middle;\n",
       "    }\n",
       "\n",
       "    .dataframe tbody tr th {\n",
       "        vertical-align: top;\n",
       "    }\n",
       "\n",
       "    .dataframe thead th {\n",
       "        text-align: right;\n",
       "    }\n",
       "</style>\n",
       "<table border=\"1\" class=\"dataframe\">\n",
       "  <thead>\n",
       "    <tr style=\"text-align: right;\">\n",
       "      <th></th>\n",
       "      <th>content</th>\n",
       "      <th>label</th>\n",
       "    </tr>\n",
       "  </thead>\n",
       "  <tbody>\n",
       "    <tr>\n",
       "      <th>0</th>\n",
       "      <td>VNU, UIT, Dept Comp Engn, Ho Chi Minh City, Vi...</td>\n",
       "      <td>0</td>\n",
       "    </tr>\n",
       "    <tr>\n",
       "      <th>1</th>\n",
       "      <td>Vietnam Natl Univ HCMC, Univ Sci, Dept Optimiz...</td>\n",
       "      <td>0</td>\n",
       "    </tr>\n",
       "    <tr>\n",
       "      <th>2</th>\n",
       "      <td>Univ Sci, Lab Adv Mat, VNU HCM, Ho Chi Minh Ci...</td>\n",
       "      <td>0</td>\n",
       "    </tr>\n",
       "    <tr>\n",
       "      <th>3</th>\n",
       "      <td>Vietnam Natl Univ Ho Chi Minh City, Univ Sci, ...</td>\n",
       "      <td>0</td>\n",
       "    </tr>\n",
       "    <tr>\n",
       "      <th>4</th>\n",
       "      <td>Viet Nam Natl Univ Ho Chi Minh City, Linh Trun...</td>\n",
       "      <td>0</td>\n",
       "    </tr>\n",
       "  </tbody>\n",
       "</table>\n",
       "</div>"
      ],
      "text/plain": [
       "                                             content label\n",
       "0  VNU, UIT, Dept Comp Engn, Ho Chi Minh City, Vi...     0\n",
       "1  Vietnam Natl Univ HCMC, Univ Sci, Dept Optimiz...     0\n",
       "2  Univ Sci, Lab Adv Mat, VNU HCM, Ho Chi Minh Ci...     0\n",
       "3  Vietnam Natl Univ Ho Chi Minh City, Univ Sci, ...     0\n",
       "4  Viet Nam Natl Univ Ho Chi Minh City, Linh Trun...     0"
      ]
     },
     "execution_count": 7,
     "metadata": {},
     "output_type": "execute_result"
    }
   ],
   "source": [
    "df.head()"
   ]
  },
  {
   "cell_type": "code",
   "execution_count": 8,
   "metadata": {},
   "outputs": [],
   "source": [
    "df = df.sample(frac=1).reset_index(drop=True)"
   ]
  },
  {
   "cell_type": "code",
   "execution_count": 9,
   "metadata": {},
   "outputs": [
    {
     "data": {
      "text/html": [
       "<div>\n",
       "<style scoped>\n",
       "    .dataframe tbody tr th:only-of-type {\n",
       "        vertical-align: middle;\n",
       "    }\n",
       "\n",
       "    .dataframe tbody tr th {\n",
       "        vertical-align: top;\n",
       "    }\n",
       "\n",
       "    .dataframe thead th {\n",
       "        text-align: right;\n",
       "    }\n",
       "</style>\n",
       "<table border=\"1\" class=\"dataframe\">\n",
       "  <thead>\n",
       "    <tr style=\"text-align: right;\">\n",
       "      <th></th>\n",
       "      <th>content</th>\n",
       "      <th>label</th>\n",
       "    </tr>\n",
       "  </thead>\n",
       "  <tbody>\n",
       "    <tr>\n",
       "      <th>0</th>\n",
       "      <td>Hue Univ Med &amp; Pharm, Hue, Vietnam</td>\n",
       "      <td>7</td>\n",
       "    </tr>\n",
       "    <tr>\n",
       "      <th>1</th>\n",
       "      <td>Nam, NH; Minh, CV, Vietnam Acad Sci &amp; Technol,...</td>\n",
       "      <td>1</td>\n",
       "    </tr>\n",
       "    <tr>\n",
       "      <th>2</th>\n",
       "      <td>Vietnam Natl Univ Ho Chi Minh City VNU HCM, Sc...</td>\n",
       "      <td>0</td>\n",
       "    </tr>\n",
       "    <tr>\n",
       "      <th>3</th>\n",
       "      <td>Duy Tan Univ, Dept Informat Technol, Da Nang, ...</td>\n",
       "      <td>6</td>\n",
       "    </tr>\n",
       "    <tr>\n",
       "      <th>4</th>\n",
       "      <td>VAST, Inst Environm Technol, Hanoi, Vietnam</td>\n",
       "      <td>1</td>\n",
       "    </tr>\n",
       "  </tbody>\n",
       "</table>\n",
       "</div>"
      ],
      "text/plain": [
       "                                             content label\n",
       "0                 Hue Univ Med & Pharm, Hue, Vietnam     7\n",
       "1  Nam, NH; Minh, CV, Vietnam Acad Sci & Technol,...     1\n",
       "2  Vietnam Natl Univ Ho Chi Minh City VNU HCM, Sc...     0\n",
       "3  Duy Tan Univ, Dept Informat Technol, Da Nang, ...     6\n",
       "4        VAST, Inst Environm Technol, Hanoi, Vietnam     1"
      ]
     },
     "execution_count": 9,
     "metadata": {},
     "output_type": "execute_result"
    }
   ],
   "source": [
    "df.head()"
   ]
  },
  {
   "cell_type": "code",
   "execution_count": 10,
   "metadata": {},
   "outputs": [],
   "source": [
    "n = int(len(df) * 0.3)"
   ]
  },
  {
   "cell_type": "code",
   "execution_count": 11,
   "metadata": {},
   "outputs": [],
   "source": [
    "df['content'] = df['content'].apply(lambda s: s.lower())\n",
    "df['num_words'] = df['content'].apply(lambda s: len(s.split()))\n",
    "df['num_unique_words'] = df['content'].apply(lambda s: len(set(w for w in s.split())))\n",
    "df['words_vs_unique'] = df['num_unique_words'] / (df['num_words']+1) * 100"
   ]
  },
  {
   "cell_type": "code",
   "execution_count": 12,
   "metadata": {},
   "outputs": [],
   "source": [
    "train = df[n:]"
   ]
  },
  {
   "cell_type": "code",
   "execution_count": 13,
   "metadata": {},
   "outputs": [],
   "source": [
    "test = df[:n]"
   ]
  },
  {
   "cell_type": "code",
   "execution_count": 14,
   "metadata": {},
   "outputs": [
    {
     "data": {
      "text/plain": [
       "3656"
      ]
     },
     "execution_count": 14,
     "metadata": {},
     "output_type": "execute_result"
    }
   ],
   "source": [
    "len(train) + len(test)"
   ]
  },
  {
   "cell_type": "code",
   "execution_count": 15,
   "metadata": {},
   "outputs": [],
   "source": [
    "train.to_csv(\"train.csv\", index=False)"
   ]
  },
  {
   "cell_type": "code",
   "execution_count": 16,
   "metadata": {},
   "outputs": [],
   "source": [
    "test.to_csv(\"test.csv\", index=False)"
   ]
  },
  {
   "cell_type": "code",
   "execution_count": 17,
   "metadata": {},
   "outputs": [],
   "source": [
    "from sklearn.feature_extraction.text import TfidfVectorizer, CountVectorizer"
   ]
  },
  {
   "cell_type": "code",
   "execution_count": 18,
   "metadata": {},
   "outputs": [],
   "source": [
    "tfidf = TfidfVectorizer(\n",
    "    min_df = 3, \n",
    "    max_df = 0.5, \n",
    "    ngram_range=(1,3),\n",
    "    use_idf=True,\n",
    "    sublinear_tf=True\n",
    ")"
   ]
  },
  {
   "cell_type": "code",
   "execution_count": 19,
   "metadata": {},
   "outputs": [],
   "source": [
    "X_train_tfidf = tfidf.fit_transform(train['content'])\n",
    "X_test_tfidf = tfidf.transform(test['content'])"
   ]
  },
  {
   "cell_type": "code",
   "execution_count": 20,
   "metadata": {},
   "outputs": [
    {
     "data": {
      "text/plain": [
       "(2560, 3278)"
      ]
     },
     "execution_count": 20,
     "metadata": {},
     "output_type": "execute_result"
    }
   ],
   "source": [
    "X_train_tfidf.shape"
   ]
  },
  {
   "cell_type": "code",
   "execution_count": 21,
   "metadata": {},
   "outputs": [],
   "source": [
    "EXCLUED_COLS = ['content', 'label']\n",
    "static_cols = [c for c in train.columns if not c in EXCLUED_COLS]\n",
    "X_train_static = train[static_cols].values\n",
    "X_test_static = test[static_cols].values"
   ]
  },
  {
   "cell_type": "code",
   "execution_count": 22,
   "metadata": {},
   "outputs": [
    {
     "data": {
      "text/html": [
       "<div>\n",
       "<style scoped>\n",
       "    .dataframe tbody tr th:only-of-type {\n",
       "        vertical-align: middle;\n",
       "    }\n",
       "\n",
       "    .dataframe tbody tr th {\n",
       "        vertical-align: top;\n",
       "    }\n",
       "\n",
       "    .dataframe thead th {\n",
       "        text-align: right;\n",
       "    }\n",
       "</style>\n",
       "<table border=\"1\" class=\"dataframe\">\n",
       "  <thead>\n",
       "    <tr style=\"text-align: right;\">\n",
       "      <th></th>\n",
       "      <th>num_words</th>\n",
       "      <th>num_unique_words</th>\n",
       "      <th>words_vs_unique</th>\n",
       "    </tr>\n",
       "  </thead>\n",
       "  <tbody>\n",
       "    <tr>\n",
       "      <th>1096</th>\n",
       "      <td>13</td>\n",
       "      <td>12</td>\n",
       "      <td>85.714286</td>\n",
       "    </tr>\n",
       "    <tr>\n",
       "      <th>1097</th>\n",
       "      <td>13</td>\n",
       "      <td>13</td>\n",
       "      <td>92.857143</td>\n",
       "    </tr>\n",
       "    <tr>\n",
       "      <th>1098</th>\n",
       "      <td>16</td>\n",
       "      <td>15</td>\n",
       "      <td>88.235294</td>\n",
       "    </tr>\n",
       "    <tr>\n",
       "      <th>1099</th>\n",
       "      <td>23</td>\n",
       "      <td>19</td>\n",
       "      <td>79.166667</td>\n",
       "    </tr>\n",
       "    <tr>\n",
       "      <th>1100</th>\n",
       "      <td>12</td>\n",
       "      <td>12</td>\n",
       "      <td>92.307692</td>\n",
       "    </tr>\n",
       "  </tbody>\n",
       "</table>\n",
       "</div>"
      ],
      "text/plain": [
       "      num_words  num_unique_words  words_vs_unique\n",
       "1096         13                12        85.714286\n",
       "1097         13                13        92.857143\n",
       "1098         16                15        88.235294\n",
       "1099         23                19        79.166667\n",
       "1100         12                12        92.307692"
      ]
     },
     "execution_count": 22,
     "metadata": {},
     "output_type": "execute_result"
    }
   ],
   "source": [
    "train[static_cols].head()"
   ]
  },
  {
   "cell_type": "code",
   "execution_count": 23,
   "metadata": {},
   "outputs": [],
   "source": [
    "from scipy.sparse import hstack, csr_matrix, vstack"
   ]
  },
  {
   "cell_type": "code",
   "execution_count": 24,
   "metadata": {},
   "outputs": [],
   "source": [
    "X_train = hstack([X_train_tfidf, csr_matrix(X_train_static)]).tocsr()\n",
    "X_test = hstack([X_test_tfidf, csr_matrix(X_test_static)]).tocsr()"
   ]
  },
  {
   "cell_type": "code",
   "execution_count": 25,
   "metadata": {},
   "outputs": [],
   "source": [
    "from sklearn.ensemble import RandomForestClassifier, GradientBoostingClassifier, ExtraTreesClassifier\n",
    "from sklearn.metrics import f1_score, confusion_matrix, accuracy_score\n",
    "from sklearn.linear_model import LogisticRegression\n",
    "from sklearn.neighbors import KNeighborsClassifier\n",
    "from sklearn.svm import SVC"
   ]
  },
  {
   "cell_type": "code",
   "execution_count": 26,
   "metadata": {},
   "outputs": [],
   "source": [
    "clfs = {\n",
    "    \"RF\": RandomForestClassifier(n_estimators=200, min_samples_leaf=2, max_depth=7, max_features=0.7, random_state=42, n_jobs=-1),\n",
    "    \"GB\": GradientBoostingClassifier(n_estimators=200, min_samples_split=2, max_depth=5, max_features=0.7, random_state=111),\n",
    "    \"LR\": LogisticRegression(penalty='l2', C=1.0),\n",
    "    \"KNN\": KNeighborsClassifier(n_neighbors=5),\n",
    "    \"SVM\": SVC(C=5, gamma=0.5)\n",
    "}"
   ]
  },
  {
   "cell_type": "code",
   "execution_count": 27,
   "metadata": {},
   "outputs": [
    {
     "name": "stdout",
     "output_type": "stream",
     "text": [
      "RF\n",
      "F1 0.957421875\n",
      "CM [[471   0   0   0   0   0   0   0   0   0]\n",
      " [ 22 550   0   0   0   0   0   0   1  20]\n",
      " [  2   0   0   0   0   0   0   0   0  14]\n",
      " [  1   0   0  53   0   0   0   0   0   5]\n",
      " [ 11   0   0   0 159   0   0   0   0   0]\n",
      " [  1   0   0   0   0 241   0   0   0   0]\n",
      " [ 10   0   0   0   0   0  95   0   0   1]\n",
      " [  0   0   0   0   0   0   0 185   0   1]\n",
      " [  1   0   0   0   0   0   0   0 260  11]\n",
      " [  7   1   0   0   0   0   0   0   0 437]]\n",
      "ACC 0.957421875\n",
      "F1 0.948905109489051\n",
      "CM [[208   1   0   0   0   0   0   0   0   0]\n",
      " [  6 230   0   0   0   0   0   0   1  13]\n",
      " [  3   0   0   0   0   0   0   0   0   4]\n",
      " [  0   0   0  18   0   0   0   0   0   2]\n",
      " [  9   0   0   0  53   0   0   0   0   2]\n",
      " [  0   0   0   0   0 101   0   0   0   0]\n",
      " [  3   0   0   0   0   0  48   0   0   0]\n",
      " [  0   0   0   0   0   0   0  76   0   0]\n",
      " [  0   0   0   0   0   0   0   0 116   8]\n",
      " [  3   0   0   0   0   0   0   0   1 190]]\n",
      "ACC 0.948905109489051\n",
      "GB\n",
      "F1 0.99921875\n",
      "CM [[470   0   0   0   0   0   0   0   0   1]\n",
      " [  0 593   0   0   0   0   0   0   0   0]\n",
      " [  0   0  16   0   0   0   0   0   0   0]\n",
      " [  0   0   0  59   0   0   0   0   0   0]\n",
      " [  0   0   0   0 170   0   0   0   0   0]\n",
      " [  0   0   0   0   0 242   0   0   0   0]\n",
      " [  0   0   0   0   0   0 106   0   0   0]\n",
      " [  0   0   0   0   0   0   0 186   0   0]\n",
      " [  0   0   0   0   0   0   0   0 271   1]\n",
      " [  0   0   0   0   0   0   0   0   0 445]]\n",
      "ACC 0.99921875\n",
      "F1 0.9890510948905109\n",
      "CM [[209   0   0   0   0   0   0   0   0   0]\n",
      " [  0 245   0   0   0   0   0   0   0   5]\n",
      " [  0   0   7   0   0   0   0   0   0   0]\n",
      " [  0   0   0  19   0   0   0   0   0   1]\n",
      " [  0   0   0   0  63   0   0   0   0   1]\n",
      " [  0   0   0   0   0 101   0   0   0   0]\n",
      " [  0   0   0   0   0   0  51   0   0   0]\n",
      " [  0   0   0   0   0   0   0  76   0   0]\n",
      " [  0   1   0   0   0   0   0   0 120   3]\n",
      " [  0   1   0   0   0   0   0   0   0 193]]\n",
      "ACC 0.9890510948905109\n",
      "LR\n"
     ]
    },
    {
     "name": "stderr",
     "output_type": "stream",
     "text": [
      "/Users/nguyenthikhanhlinh/anaconda3/lib/python3.6/site-packages/sklearn/linear_model/logistic.py:433: FutureWarning: Default solver will be changed to 'lbfgs' in 0.22. Specify a solver to silence this warning.\n",
      "  FutureWarning)\n",
      "/Users/nguyenthikhanhlinh/anaconda3/lib/python3.6/site-packages/sklearn/linear_model/logistic.py:460: FutureWarning: Default multi_class will be changed to 'auto' in 0.22. Specify the multi_class option to silence this warning.\n",
      "  \"this warning.\", FutureWarning)\n"
     ]
    },
    {
     "name": "stdout",
     "output_type": "stream",
     "text": [
      "F1 0.99375\n",
      "CM [[471   0   0   0   0   0   0   0   0   0]\n",
      " [  2 589   0   0   0   0   0   0   0   2]\n",
      " [  0   0  10   0   0   0   0   0   0   6]\n",
      " [  0   0   0  56   0   0   0   0   0   3]\n",
      " [  0   0   0   0 170   0   0   0   0   0]\n",
      " [  0   0   0   0   0 242   0   0   0   0]\n",
      " [  0   0   0   0   0   0 106   0   0   0]\n",
      " [  0   0   0   0   0   0   0 186   0   0]\n",
      " [  0   0   0   0   0   0   0   0 270   2]\n",
      " [  1   0   0   0   0   0   0   0   0 444]]\n",
      "ACC 0.99375\n",
      "F1 0.9917883211678832\n",
      "CM [[209   0   0   0   0   0   0   0   0   0]\n",
      " [  0 250   0   0   0   0   0   0   0   0]\n",
      " [  0   0   3   0   0   0   0   0   0   4]\n",
      " [  0   0   0  18   0   1   0   0   0   1]\n",
      " [  0   0   0   0  62   0   0   0   0   2]\n",
      " [  0   0   0   0   0 101   0   0   0   0]\n",
      " [  0   0   0   0   0   0  51   0   0   0]\n",
      " [  0   0   0   0   0   0   0  76   0   0]\n",
      " [  0   0   0   0   0   0   0   0 123   1]\n",
      " [  0   0   0   0   0   0   0   0   0 194]]\n",
      "ACC 0.9917883211678832\n",
      "KNN\n",
      "F1 0.8843749999999999\n",
      "CM [[433  10   0   1   0  21   0   1   0   5]\n",
      " [ 37 534   0   0   0   6   2   0   8   6]\n",
      " [  3   1   7   2   1   0   0   0   0   2]\n",
      " [  4   1   0  43   0   0   0   0   4   7]\n",
      " [ 10   6   1   0 151   1   1   0   0   0]\n",
      " [ 10   2   0   0   0 229   1   0   0   0]\n",
      " [  1   5   0   1   0   0  96   0   0   3]\n",
      " [  5   3   0   0   3   3   0 169   0   3]\n",
      " [ 16  23   0   1   0   4   0   0 225   3]\n",
      " [ 23  15   2   4   1   2   2   3  16 377]]\n",
      "ACC 0.884375\n",
      "F1 0.8302919708029197\n",
      "CM [[181   4   0   1   1  11   0   3   3   5]\n",
      " [ 15 223   0   1   0   4   0   0   4   3]\n",
      " [  1   1   1   0   0   0   0   0   0   4]\n",
      " [  2   0   0  12   0   1   1   0   1   3]\n",
      " [  6   1   0   0  51   1   0   1   0   4]\n",
      " [  4   1   0   0   0  96   0   0   0   0]\n",
      " [  0   4   0   0   0   0  47   0   0   0]\n",
      " [  5   2   0   1   1   1   0  65   0   1]\n",
      " [  5  23   0   0   0   0   1   1  92   2]\n",
      " [ 28   7   0   0   0   1   1   0  15 142]]\n",
      "ACC 0.8302919708029197\n",
      "SVM\n",
      "F1 0.99921875\n",
      "CM [[471   0   0   0   0   0   0   0   0   0]\n",
      " [  0 593   0   0   0   0   0   0   0   0]\n",
      " [  0   0  16   0   0   0   0   0   0   0]\n",
      " [  0   0   0  59   0   0   0   0   0   0]\n",
      " [  0   0   0   0 170   0   0   0   0   0]\n",
      " [  0   0   0   0   0 242   0   0   0   0]\n",
      " [  0   0   0   0   0   0 106   0   0   0]\n",
      " [  0   0   0   0   0   0   0 186   0   0]\n",
      " [  0   0   0   0   0   0   0   0 271   1]\n",
      " [  1   0   0   0   0   0   0   0   0 444]]\n",
      "ACC 0.99921875\n",
      "F1 0.8731751824817519\n",
      "CM [[189   6   0   0   0   4   0   0   0  10]\n",
      " [  8 237   0   0   0   0   0   0   0   5]\n",
      " [  0   0   2   0   0   0   0   0   0   5]\n",
      " [  1   0   0  11   0   1   0   0   0   7]\n",
      " [  4   2   0   0  52   0   0   0   0   6]\n",
      " [  3   2   0   0   0  94   0   0   0   2]\n",
      " [  0   1   0   0   0   0  49   0   0   1]\n",
      " [  4   3   0   0   0   0   0  67   0   2]\n",
      " [  8  15   0   0   0   0   0   0  92   9]\n",
      " [ 14  15   0   0   0   0   0   0   1 164]]\n",
      "ACC 0.8731751824817519\n"
     ]
    }
   ],
   "source": [
    "for name, clf in clfs.items():\n",
    "    print(name)\n",
    "    y_true = train['label'].astype('int')\n",
    "    clf.fit(X_train, y_true)\n",
    "    y_pred = clf.predict(X_train)\n",
    "    \n",
    "    print(\"F1\", f1_score(y_true, y_pred, average=\"micro\"))\n",
    "    print(\"CM\", confusion_matrix(y_true, y_pred))\n",
    "    print(\"ACC\", accuracy_score(y_true, y_pred))\n",
    "    \n",
    "    y_true = test['label'].astype('int')\n",
    "    y_pred = clf.predict(X_test)\n",
    "    \n",
    "    print(\"F1\", f1_score(y_true, y_pred, average=\"micro\"))\n",
    "    print(\"CM\", confusion_matrix(y_true, y_pred))\n",
    "    print(\"ACC\", accuracy_score(y_true, y_pred))"
   ]
  },
  {
   "cell_type": "code",
   "execution_count": 28,
   "metadata": {},
   "outputs": [],
   "source": [
    "models=[ \n",
    "    ######## First level ########\n",
    "    [\n",
    "        RandomForestClassifier(n_estimators=200, min_samples_leaf=2, max_depth=7, max_features=0.7, random_state=42, n_jobs=-1),        \n",
    "        ExtraTreesClassifier (n_estimators=200, min_samples_leaf=2, max_depth=7, max_features=0.7, random_state=42, n_jobs=-1),\n",
    "        GradientBoostingClassifier(n_estimators=200, min_samples_split=2, max_depth=5, max_features=0.7, random_state=111),\n",
    "        LogisticRegression(penalty='l2', C=1.0),\n",
    "    ],\n",
    "    ######## Second level ########\n",
    "    [\n",
    "        RandomForestClassifier (n_estimators=200, min_samples_leaf=2, max_depth=30, max_features=0.7, random_state=421, n_jobs=-1)\n",
    "    ]\n",
    "]"
   ]
  },
  {
   "cell_type": "code",
   "execution_count": 29,
   "metadata": {},
   "outputs": [
    {
     "name": "stdout",
     "output_type": "stream",
     "text": [
      "====================== Start of Level 0 ======================\n",
      "Input Dimensionality 3342 at Level 0 \n",
      "4 models included in Level 0 \n"
     ]
    },
    {
     "name": "stderr",
     "output_type": "stream",
     "text": [
      "/Users/nguyenthikhanhlinh/anaconda3/lib/python3.6/site-packages/sklearn/linear_model/logistic.py:433: FutureWarning: Default solver will be changed to 'lbfgs' in 0.22. Specify a solver to silence this warning.\n",
      "  FutureWarning)\n",
      "/Users/nguyenthikhanhlinh/anaconda3/lib/python3.6/site-packages/sklearn/linear_model/logistic.py:460: FutureWarning: Default multi_class will be changed to 'auto' in 0.22. Specify the multi_class option to silence this warning.\n",
      "  \"this warning.\", FutureWarning)\n"
     ]
    },
    {
     "name": "stdout",
     "output_type": "stream",
     "text": [
      "Level 0, fold 1/5 , model 0 , accuracy===0.955078 \n",
      "Level 0, fold 1/5 , model 1 , accuracy===0.896484 \n",
      "Level 0, fold 1/5 , model 2 , accuracy===0.994141 \n",
      "Level 0, fold 1/5 , model 3 , accuracy===0.992188 \n",
      "=========== end of fold 1 in level 0 ===========\n"
     ]
    },
    {
     "name": "stderr",
     "output_type": "stream",
     "text": [
      "/Users/nguyenthikhanhlinh/anaconda3/lib/python3.6/site-packages/sklearn/linear_model/logistic.py:433: FutureWarning: Default solver will be changed to 'lbfgs' in 0.22. Specify a solver to silence this warning.\n",
      "  FutureWarning)\n",
      "/Users/nguyenthikhanhlinh/anaconda3/lib/python3.6/site-packages/sklearn/linear_model/logistic.py:460: FutureWarning: Default multi_class will be changed to 'auto' in 0.22. Specify the multi_class option to silence this warning.\n",
      "  \"this warning.\", FutureWarning)\n"
     ]
    },
    {
     "name": "stdout",
     "output_type": "stream",
     "text": [
      "Level 0, fold 2/5 , model 0 , accuracy===0.937500 \n",
      "Level 0, fold 2/5 , model 1 , accuracy===0.896484 \n",
      "Level 0, fold 2/5 , model 2 , accuracy===0.978516 \n",
      "Level 0, fold 2/5 , model 3 , accuracy===0.984375 \n",
      "=========== end of fold 2 in level 0 ===========\n"
     ]
    },
    {
     "name": "stderr",
     "output_type": "stream",
     "text": [
      "/Users/nguyenthikhanhlinh/anaconda3/lib/python3.6/site-packages/sklearn/linear_model/logistic.py:433: FutureWarning: Default solver will be changed to 'lbfgs' in 0.22. Specify a solver to silence this warning.\n",
      "  FutureWarning)\n",
      "/Users/nguyenthikhanhlinh/anaconda3/lib/python3.6/site-packages/sklearn/linear_model/logistic.py:460: FutureWarning: Default multi_class will be changed to 'auto' in 0.22. Specify the multi_class option to silence this warning.\n",
      "  \"this warning.\", FutureWarning)\n"
     ]
    },
    {
     "name": "stdout",
     "output_type": "stream",
     "text": [
      "Level 0, fold 3/5 , model 0 , accuracy===0.970703 \n",
      "Level 0, fold 3/5 , model 1 , accuracy===0.900391 \n",
      "Level 0, fold 3/5 , model 2 , accuracy===0.994141 \n",
      "Level 0, fold 3/5 , model 3 , accuracy===0.988281 \n",
      "=========== end of fold 3 in level 0 ===========\n"
     ]
    },
    {
     "name": "stderr",
     "output_type": "stream",
     "text": [
      "/Users/nguyenthikhanhlinh/anaconda3/lib/python3.6/site-packages/sklearn/linear_model/logistic.py:433: FutureWarning: Default solver will be changed to 'lbfgs' in 0.22. Specify a solver to silence this warning.\n",
      "  FutureWarning)\n",
      "/Users/nguyenthikhanhlinh/anaconda3/lib/python3.6/site-packages/sklearn/linear_model/logistic.py:460: FutureWarning: Default multi_class will be changed to 'auto' in 0.22. Specify the multi_class option to silence this warning.\n",
      "  \"this warning.\", FutureWarning)\n"
     ]
    },
    {
     "name": "stdout",
     "output_type": "stream",
     "text": [
      "Level 0, fold 4/5 , model 0 , accuracy===0.970703 \n",
      "Level 0, fold 4/5 , model 1 , accuracy===0.908203 \n",
      "Level 0, fold 4/5 , model 2 , accuracy===0.996094 \n",
      "Level 0, fold 4/5 , model 3 , accuracy===0.992188 \n",
      "=========== end of fold 4 in level 0 ===========\n"
     ]
    },
    {
     "name": "stderr",
     "output_type": "stream",
     "text": [
      "/Users/nguyenthikhanhlinh/anaconda3/lib/python3.6/site-packages/sklearn/linear_model/logistic.py:433: FutureWarning: Default solver will be changed to 'lbfgs' in 0.22. Specify a solver to silence this warning.\n",
      "  FutureWarning)\n",
      "/Users/nguyenthikhanhlinh/anaconda3/lib/python3.6/site-packages/sklearn/linear_model/logistic.py:460: FutureWarning: Default multi_class will be changed to 'auto' in 0.22. Specify the multi_class option to silence this warning.\n",
      "  \"this warning.\", FutureWarning)\n"
     ]
    },
    {
     "name": "stdout",
     "output_type": "stream",
     "text": [
      "Level 0, fold 5/5 , model 0 , accuracy===0.949219 \n",
      "Level 0, fold 5/5 , model 1 , accuracy===0.902344 \n",
      "Level 0, fold 5/5 , model 2 , accuracy===0.984375 \n",
      "Level 0, fold 5/5 , model 3 , accuracy===0.976562 \n",
      "=========== end of fold 5 in level 0 ===========\n",
      "Level 0, model 0 , accuracy===0.956641 \n",
      "Level 0, model 1 , accuracy===0.900781 \n",
      "Level 0, model 2 , accuracy===0.989453 \n",
      "Level 0, model 3 , accuracy===0.986719 \n"
     ]
    },
    {
     "name": "stderr",
     "output_type": "stream",
     "text": [
      "/Users/nguyenthikhanhlinh/anaconda3/lib/python3.6/site-packages/sklearn/linear_model/logistic.py:433: FutureWarning: Default solver will be changed to 'lbfgs' in 0.22. Specify a solver to silence this warning.\n",
      "  FutureWarning)\n",
      "/Users/nguyenthikhanhlinh/anaconda3/lib/python3.6/site-packages/sklearn/linear_model/logistic.py:460: FutureWarning: Default multi_class will be changed to 'auto' in 0.22. Specify the multi_class option to silence this warning.\n",
      "  \"this warning.\", FutureWarning)\n"
     ]
    },
    {
     "name": "stdout",
     "output_type": "stream",
     "text": [
      "Output dimensionality of level 0 is 40 \n",
      "====================== End of Level 0 ======================\n",
      " level 0 lasted 138.341816 seconds \n",
      "====================== Start of Level 1 ======================\n",
      "Input Dimensionality 40 at Level 1 \n",
      "1 models included in Level 1 \n",
      "Level 1, fold 1/5 , model 0 , accuracy===0.992188 \n",
      "=========== end of fold 1 in level 1 ===========\n",
      "Level 1, fold 2/5 , model 0 , accuracy===0.986328 \n",
      "=========== end of fold 2 in level 1 ===========\n",
      "Level 1, fold 3/5 , model 0 , accuracy===0.994141 \n",
      "=========== end of fold 3 in level 1 ===========\n",
      "Level 1, fold 4/5 , model 0 , accuracy===0.996094 \n",
      "=========== end of fold 4 in level 1 ===========\n",
      "Level 1, fold 5/5 , model 0 , accuracy===0.984375 \n",
      "=========== end of fold 5 in level 1 ===========\n",
      "Level 1, model 0 , accuracy===0.990625 \n",
      "Output dimensionality of level 1 is 10 \n",
      "====================== End of Level 1 ======================\n",
      " level 1 lasted 8.385583 seconds \n",
      "====================== End of fit ======================\n",
      " fit() lasted 146.727935 seconds \n",
      "====================== Start of Level 0 ======================\n",
      "1 estimators included in Level 0 \n",
      "====================== Start of Level 1 ======================\n",
      "1 estimators included in Level 1 \n"
     ]
    }
   ],
   "source": [
    "from pystacknet.pystacknet import StackNetClassifier\n",
    "\n",
    "model = StackNetClassifier(\n",
    "    models, metric=\"accuracy\", \n",
    "    folds=5,\n",
    "    restacking=False, \n",
    "    use_retraining=True, \n",
    "    use_proba=True, \n",
    "    random_state=12345, n_jobs=1, verbose=1\n",
    ")\n",
    "\n",
    "y_train = train['label'].astype('int')\n",
    "model.fit(X_train, y_train)\n",
    "preds=model.predict_proba(X_test)"
   ]
  },
  {
   "cell_type": "code",
   "execution_count": 30,
   "metadata": {},
   "outputs": [],
   "source": [
    "pred_cls = np.argmax(preds, axis=1)\n",
    "y_true = test['label'].astype('int')"
   ]
  },
  {
   "cell_type": "code",
   "execution_count": 31,
   "metadata": {},
   "outputs": [
    {
     "name": "stdout",
     "output_type": "stream",
     "text": [
      "F1 0.9945255474452555\n",
      "CM [[219   0   0   0   0   0   0   0   0   0]\n",
      " [  0 241   0   0   0   0   0   0   0   0]\n",
      " [  0   0   7   0   0   0   0   0   0   0]\n",
      " [  0   1   0  20   0   0   0   0   1   2]\n",
      " [  0   0   0   0  78   0   0   0   0   0]\n",
      " [  0   0   0   0   0 103   0   0   0   0]\n",
      " [  0   0   0   0   0   0  43   0   0   0]\n",
      " [  0   0   0   0   0   0   0  66   0   0]\n",
      " [  0   0   0   0   1   0   0   0 125   0]\n",
      " [  0   0   0   0   0   0   0   0   1 188]]\n",
      "ACC 0.9945255474452555\n"
     ]
    }
   ],
   "source": [
    "print(\"F1\", f1_score(y_true, pred_cls, average=\"micro\"))\n",
    "print(\"CM\", confusion_matrix(y_true, pred_cls))\n",
    "print(\"ACC\", accuracy_score(y_true, pred_cls))"
   ]
  },
  {
   "cell_type": "code",
   "execution_count": 28,
   "metadata": {},
   "outputs": [],
   "source": [
    "final_model = clfs[\"GB\"]"
   ]
  },
  {
   "cell_type": "code",
   "execution_count": 29,
   "metadata": {},
   "outputs": [],
   "source": [
    "import pickle"
   ]
  },
  {
   "cell_type": "code",
   "execution_count": 30,
   "metadata": {},
   "outputs": [],
   "source": [
    "with open('vcgate_gradient_boosting.pkl', 'wb') as f:\n",
    "    pickle.dump(final_model, f)"
   ]
  },
  {
   "cell_type": "code",
   "execution_count": 31,
   "metadata": {},
   "outputs": [],
   "source": [
    "with open('vcgate_tfidf.pkl', 'wb') as f:\n",
    "    pickle.dump(tfidf, f)"
   ]
  },
  {
   "cell_type": "code",
   "execution_count": 32,
   "metadata": {},
   "outputs": [],
   "source": [
    "encode_rev = {}\n",
    "for k, v in encode.items():\n",
    "    encode_rev[v] = k"
   ]
  },
  {
   "cell_type": "code",
   "execution_count": 40,
   "metadata": {},
   "outputs": [],
   "source": [
    "sen = \"University of Engineering and Technology\".lower()"
   ]
  },
  {
   "cell_type": "code",
   "execution_count": 41,
   "metadata": {},
   "outputs": [],
   "source": [
    "sen_tfidf = tfidf.transform([sen])"
   ]
  },
  {
   "cell_type": "code",
   "execution_count": 42,
   "metadata": {},
   "outputs": [],
   "source": [
    "num_words = len(sen.split())\n",
    "num_unique_words = len(set(w for w in sen.split()))\n",
    "words_vs_unique = num_unique_words / (num_words+1) * 100"
   ]
  },
  {
   "cell_type": "code",
   "execution_count": 43,
   "metadata": {},
   "outputs": [
    {
     "data": {
      "text/plain": [
       "<1x3278 sparse matrix of type '<class 'numpy.float64'>'\n",
       "\twith 0 stored elements in Compressed Sparse Row format>"
      ]
     },
     "execution_count": 43,
     "metadata": {},
     "output_type": "execute_result"
    }
   ],
   "source": [
    "sen_tfidf"
   ]
  },
  {
   "cell_type": "code",
   "execution_count": 44,
   "metadata": {},
   "outputs": [],
   "source": [
    "feat = hstack([sen_tfidf, csr_matrix([num_words, num_unique_words, words_vs_unique])]).tocsr()"
   ]
  },
  {
   "cell_type": "code",
   "execution_count": 51,
   "metadata": {},
   "outputs": [],
   "source": [
    "label = clfs[\"GB\"].predict(feat)"
   ]
  },
  {
   "cell_type": "code",
   "execution_count": 52,
   "metadata": {},
   "outputs": [
    {
     "data": {
      "text/plain": [
       "'vast'"
      ]
     },
     "execution_count": 52,
     "metadata": {},
     "output_type": "execute_result"
    }
   ],
   "source": [
    "encode_rev[label[0]]"
   ]
  },
  {
   "cell_type": "code",
   "execution_count": 53,
   "metadata": {},
   "outputs": [
    {
     "data": {
      "text/plain": [
       "array([1])"
      ]
     },
     "execution_count": 53,
     "metadata": {},
     "output_type": "execute_result"
    }
   ],
   "source": [
    "label"
   ]
  },
  {
   "cell_type": "code",
   "execution_count": 57,
   "metadata": {},
   "outputs": [
    {
     "data": {
      "text/html": [
       "<div>\n",
       "<style scoped>\n",
       "    .dataframe tbody tr th:only-of-type {\n",
       "        vertical-align: middle;\n",
       "    }\n",
       "\n",
       "    .dataframe tbody tr th {\n",
       "        vertical-align: top;\n",
       "    }\n",
       "\n",
       "    .dataframe thead th {\n",
       "        text-align: right;\n",
       "    }\n",
       "</style>\n",
       "<table border=\"1\" class=\"dataframe\">\n",
       "  <thead>\n",
       "    <tr style=\"text-align: right;\">\n",
       "      <th></th>\n",
       "      <th>content</th>\n",
       "      <th>label</th>\n",
       "      <th>num_words</th>\n",
       "      <th>num_unique_words</th>\n",
       "      <th>words_vs_unique</th>\n",
       "    </tr>\n",
       "  </thead>\n",
       "  <tbody>\n",
       "    <tr>\n",
       "      <th>1097</th>\n",
       "      <td>hanoi natl univ, dept phys, coll nat sci, 334 ...</td>\n",
       "      <td>9</td>\n",
       "      <td>13</td>\n",
       "      <td>13</td>\n",
       "      <td>92.857143</td>\n",
       "    </tr>\n",
       "    <tr>\n",
       "      <th>1100</th>\n",
       "      <td>vnu univ engn &amp; technol uet, vnu, 144 xuan thu...</td>\n",
       "      <td>9</td>\n",
       "      <td>12</td>\n",
       "      <td>12</td>\n",
       "      <td>92.307692</td>\n",
       "    </tr>\n",
       "    <tr>\n",
       "      <th>1101</th>\n",
       "      <td>vietnam natl univ, vnu univ sci, dept biochem ...</td>\n",
       "      <td>9</td>\n",
       "      <td>20</td>\n",
       "      <td>19</td>\n",
       "      <td>90.476190</td>\n",
       "    </tr>\n",
       "    <tr>\n",
       "      <th>1102</th>\n",
       "      <td>vietnam natl univ, vnu univ engn &amp; technol, fa...</td>\n",
       "      <td>9</td>\n",
       "      <td>18</td>\n",
       "      <td>15</td>\n",
       "      <td>78.947368</td>\n",
       "    </tr>\n",
       "    <tr>\n",
       "      <th>1109</th>\n",
       "      <td>vietnam natl univ, univ sci, hanoi 100000, vie...</td>\n",
       "      <td>9</td>\n",
       "      <td>8</td>\n",
       "      <td>7</td>\n",
       "      <td>77.777778</td>\n",
       "    </tr>\n",
       "    <tr>\n",
       "      <th>1123</th>\n",
       "      <td>vnu hanoi univ sci, fac chem, 19 le thanh tong...</td>\n",
       "      <td>9</td>\n",
       "      <td>12</td>\n",
       "      <td>12</td>\n",
       "      <td>92.307692</td>\n",
       "    </tr>\n",
       "    <tr>\n",
       "      <th>1124</th>\n",
       "      <td>vietnam natl univ, vnu univ sci, fac phys, han...</td>\n",
       "      <td>9</td>\n",
       "      <td>10</td>\n",
       "      <td>9</td>\n",
       "      <td>81.818182</td>\n",
       "    </tr>\n",
       "    <tr>\n",
       "      <th>1137</th>\n",
       "      <td>vnu univ engn &amp; technol, fac engn phys &amp; nanot...</td>\n",
       "      <td>9</td>\n",
       "      <td>15</td>\n",
       "      <td>13</td>\n",
       "      <td>81.250000</td>\n",
       "    </tr>\n",
       "    <tr>\n",
       "      <th>1153</th>\n",
       "      <td>vnu univ sci, fac biol, natl key lab enzyme &amp; ...</td>\n",
       "      <td>9</td>\n",
       "      <td>14</td>\n",
       "      <td>14</td>\n",
       "      <td>93.333333</td>\n",
       "    </tr>\n",
       "    <tr>\n",
       "      <th>1164</th>\n",
       "      <td>vietnam natl univ, ifi, hanoi, vietnam</td>\n",
       "      <td>9</td>\n",
       "      <td>6</td>\n",
       "      <td>5</td>\n",
       "      <td>71.428571</td>\n",
       "    </tr>\n",
       "    <tr>\n",
       "      <th>1165</th>\n",
       "      <td>hanoi natl univ, univ nat sci, fac phys, hanoi...</td>\n",
       "      <td>9</td>\n",
       "      <td>10</td>\n",
       "      <td>10</td>\n",
       "      <td>90.909091</td>\n",
       "    </tr>\n",
       "    <tr>\n",
       "      <th>1183</th>\n",
       "      <td>hanoi natl univ, informat technol inst, 144 xu...</td>\n",
       "      <td>9</td>\n",
       "      <td>12</td>\n",
       "      <td>12</td>\n",
       "      <td>92.307692</td>\n",
       "    </tr>\n",
       "    <tr>\n",
       "      <th>1189</th>\n",
       "      <td>vietnam natl univ, univ econ &amp; business, fac i...</td>\n",
       "      <td>9</td>\n",
       "      <td>14</td>\n",
       "      <td>12</td>\n",
       "      <td>80.000000</td>\n",
       "    </tr>\n",
       "    <tr>\n",
       "      <th>1192</th>\n",
       "      <td>vietnam natl univ hanoi vnu, vnu univ sci, fac...</td>\n",
       "      <td>9</td>\n",
       "      <td>16</td>\n",
       "      <td>13</td>\n",
       "      <td>76.470588</td>\n",
       "    </tr>\n",
       "    <tr>\n",
       "      <th>1195</th>\n",
       "      <td>vietnam natl univ, crisp, hanoi, vietnam</td>\n",
       "      <td>9</td>\n",
       "      <td>6</td>\n",
       "      <td>5</td>\n",
       "      <td>71.428571</td>\n",
       "    </tr>\n",
       "    <tr>\n",
       "      <th>1196</th>\n",
       "      <td>vnu univ engn &amp; technol, 144 xuan thuy, hanoi,...</td>\n",
       "      <td>9</td>\n",
       "      <td>10</td>\n",
       "      <td>10</td>\n",
       "      <td>90.909091</td>\n",
       "    </tr>\n",
       "    <tr>\n",
       "      <th>1197</th>\n",
       "      <td>vietnam natl univ, ctr nat resources &amp; environ...</td>\n",
       "      <td>9</td>\n",
       "      <td>11</td>\n",
       "      <td>10</td>\n",
       "      <td>83.333333</td>\n",
       "    </tr>\n",
       "    <tr>\n",
       "      <th>1198</th>\n",
       "      <td>vietnam natl univ, int sch, hanoi, vietnam</td>\n",
       "      <td>9</td>\n",
       "      <td>7</td>\n",
       "      <td>6</td>\n",
       "      <td>75.000000</td>\n",
       "    </tr>\n",
       "    <tr>\n",
       "      <th>1202</th>\n",
       "      <td>vietnam natl univ, fac int studies, hanoi, vie...</td>\n",
       "      <td>9</td>\n",
       "      <td>8</td>\n",
       "      <td>7</td>\n",
       "      <td>77.777778</td>\n",
       "    </tr>\n",
       "    <tr>\n",
       "      <th>1203</th>\n",
       "      <td>vnu univ sci, natl key lab enzyme &amp; prot techn...</td>\n",
       "      <td>9</td>\n",
       "      <td>15</td>\n",
       "      <td>15</td>\n",
       "      <td>93.750000</td>\n",
       "    </tr>\n",
       "    <tr>\n",
       "      <th>1211</th>\n",
       "      <td>hanoi univ sci, dept math, 334 nguyen trai, ha...</td>\n",
       "      <td>9</td>\n",
       "      <td>10</td>\n",
       "      <td>10</td>\n",
       "      <td>90.909091</td>\n",
       "    </tr>\n",
       "    <tr>\n",
       "      <th>1220</th>\n",
       "      <td>vietnam natl univ hanoi, hmi lab, univ engn &amp; ...</td>\n",
       "      <td>9</td>\n",
       "      <td>12</td>\n",
       "      <td>9</td>\n",
       "      <td>69.230769</td>\n",
       "    </tr>\n",
       "    <tr>\n",
       "      <th>1226</th>\n",
       "      <td>hanoi univ sci, dept phys, 334 nguyen trai, ha...</td>\n",
       "      <td>9</td>\n",
       "      <td>11</td>\n",
       "      <td>10</td>\n",
       "      <td>83.333333</td>\n",
       "    </tr>\n",
       "    <tr>\n",
       "      <th>1227</th>\n",
       "      <td>vietnam natl univ hanoi, dept math, hanoi, vie...</td>\n",
       "      <td>9</td>\n",
       "      <td>8</td>\n",
       "      <td>6</td>\n",
       "      <td>66.666667</td>\n",
       "    </tr>\n",
       "    <tr>\n",
       "      <th>1236</th>\n",
       "      <td>vnu hanoi univ engn &amp; technol uet, adv mat &amp; s...</td>\n",
       "      <td>9</td>\n",
       "      <td>16</td>\n",
       "      <td>15</td>\n",
       "      <td>88.235294</td>\n",
       "    </tr>\n",
       "    <tr>\n",
       "      <th>1237</th>\n",
       "      <td>vietnam natl univ, dept clin psychol, hanoi, v...</td>\n",
       "      <td>9</td>\n",
       "      <td>8</td>\n",
       "      <td>7</td>\n",
       "      <td>77.777778</td>\n",
       "    </tr>\n",
       "    <tr>\n",
       "      <th>1245</th>\n",
       "      <td>vietnam natl univ, vnu univ engn &amp; technol, vn...</td>\n",
       "      <td>9</td>\n",
       "      <td>19</td>\n",
       "      <td>16</td>\n",
       "      <td>80.000000</td>\n",
       "    </tr>\n",
       "    <tr>\n",
       "      <th>1247</th>\n",
       "      <td>vietnam natl univ, fac chem, 19 le thanh tong ...</td>\n",
       "      <td>9</td>\n",
       "      <td>13</td>\n",
       "      <td>12</td>\n",
       "      <td>85.714286</td>\n",
       "    </tr>\n",
       "    <tr>\n",
       "      <th>1257</th>\n",
       "      <td>hanoi natl univ, ctr nat resources &amp; environm ...</td>\n",
       "      <td>9</td>\n",
       "      <td>15</td>\n",
       "      <td>15</td>\n",
       "      <td>93.750000</td>\n",
       "    </tr>\n",
       "    <tr>\n",
       "      <th>1261</th>\n",
       "      <td>vnu key lab geoenvironm &amp; climate change respo...</td>\n",
       "      <td>9</td>\n",
       "      <td>10</td>\n",
       "      <td>10</td>\n",
       "      <td>90.909091</td>\n",
       "    </tr>\n",
       "    <tr>\n",
       "      <th>...</th>\n",
       "      <td>...</td>\n",
       "      <td>...</td>\n",
       "      <td>...</td>\n",
       "      <td>...</td>\n",
       "      <td>...</td>\n",
       "    </tr>\n",
       "    <tr>\n",
       "      <th>3498</th>\n",
       "      <td>vietnam natl univ hanoi, int sch, 144 xuan thu...</td>\n",
       "      <td>9</td>\n",
       "      <td>11</td>\n",
       "      <td>9</td>\n",
       "      <td>75.000000</td>\n",
       "    </tr>\n",
       "    <tr>\n",
       "      <th>3502</th>\n",
       "      <td>vietnam natl univ, dept math mech &amp; informat, ...</td>\n",
       "      <td>9</td>\n",
       "      <td>14</td>\n",
       "      <td>13</td>\n",
       "      <td>86.666667</td>\n",
       "    </tr>\n",
       "    <tr>\n",
       "      <th>3504</th>\n",
       "      <td>vnu univ engn &amp; technol, dept software engn, h...</td>\n",
       "      <td>9</td>\n",
       "      <td>10</td>\n",
       "      <td>10</td>\n",
       "      <td>90.909091</td>\n",
       "    </tr>\n",
       "    <tr>\n",
       "      <th>3511</th>\n",
       "      <td>vnu univ engn &amp; technol, sis lab, 144 xuan thu...</td>\n",
       "      <td>9</td>\n",
       "      <td>13</td>\n",
       "      <td>13</td>\n",
       "      <td>92.857143</td>\n",
       "    </tr>\n",
       "    <tr>\n",
       "      <th>3514</th>\n",
       "      <td>144 xuan thuy st, hanoi, vietnam</td>\n",
       "      <td>9</td>\n",
       "      <td>6</td>\n",
       "      <td>6</td>\n",
       "      <td>85.714286</td>\n",
       "    </tr>\n",
       "    <tr>\n",
       "      <th>3520</th>\n",
       "      <td>vietnam natl univ, dept engn mech &amp; automat, h...</td>\n",
       "      <td>9</td>\n",
       "      <td>14</td>\n",
       "      <td>13</td>\n",
       "      <td>86.666667</td>\n",
       "    </tr>\n",
       "    <tr>\n",
       "      <th>3528</th>\n",
       "      <td>vnu univ engn &amp; technol, 144 xuan thuy str, ha...</td>\n",
       "      <td>9</td>\n",
       "      <td>11</td>\n",
       "      <td>11</td>\n",
       "      <td>91.666667</td>\n",
       "    </tr>\n",
       "    <tr>\n",
       "      <th>3529</th>\n",
       "      <td>vnu univ econ &amp; business, fac polit econ, hano...</td>\n",
       "      <td>9</td>\n",
       "      <td>10</td>\n",
       "      <td>10</td>\n",
       "      <td>90.909091</td>\n",
       "    </tr>\n",
       "    <tr>\n",
       "      <th>3535</th>\n",
       "      <td>vietnam natl univ, dept meteorol &amp; climate cha...</td>\n",
       "      <td>9</td>\n",
       "      <td>13</td>\n",
       "      <td>12</td>\n",
       "      <td>85.714286</td>\n",
       "    </tr>\n",
       "    <tr>\n",
       "      <th>3537</th>\n",
       "      <td>vnu univ sci vietnam natl univ, fac chem, 19 l...</td>\n",
       "      <td>9</td>\n",
       "      <td>14</td>\n",
       "      <td>13</td>\n",
       "      <td>86.666667</td>\n",
       "    </tr>\n",
       "    <tr>\n",
       "      <th>3542</th>\n",
       "      <td>vietnam natl univ, adv mat &amp; struct lab, univ ...</td>\n",
       "      <td>9</td>\n",
       "      <td>17</td>\n",
       "      <td>15</td>\n",
       "      <td>83.333333</td>\n",
       "    </tr>\n",
       "    <tr>\n",
       "      <th>3547</th>\n",
       "      <td>hanoi univ sci, ctr environm technol &amp; sustain...</td>\n",
       "      <td>9</td>\n",
       "      <td>14</td>\n",
       "      <td>14</td>\n",
       "      <td>93.333333</td>\n",
       "    </tr>\n",
       "    <tr>\n",
       "      <th>3555</th>\n",
       "      <td>hanoi univ sci, hanoi, vietnam</td>\n",
       "      <td>9</td>\n",
       "      <td>5</td>\n",
       "      <td>5</td>\n",
       "      <td>83.333333</td>\n",
       "    </tr>\n",
       "    <tr>\n",
       "      <th>3558</th>\n",
       "      <td>vnu univ social sci &amp; humanities, dept sociol,...</td>\n",
       "      <td>9</td>\n",
       "      <td>10</td>\n",
       "      <td>10</td>\n",
       "      <td>90.909091</td>\n",
       "    </tr>\n",
       "    <tr>\n",
       "      <th>3562</th>\n",
       "      <td>vietnam natl univ, dept polit econ, hanoi, vie...</td>\n",
       "      <td>9</td>\n",
       "      <td>8</td>\n",
       "      <td>7</td>\n",
       "      <td>77.777778</td>\n",
       "    </tr>\n",
       "    <tr>\n",
       "      <th>3570</th>\n",
       "      <td>vnu univ sci, fac environm sci, dept environm ...</td>\n",
       "      <td>9</td>\n",
       "      <td>14</td>\n",
       "      <td>12</td>\n",
       "      <td>80.000000</td>\n",
       "    </tr>\n",
       "    <tr>\n",
       "      <th>3572</th>\n",
       "      <td>vietnam natl univ, coll sci, key lab enzyme &amp; ...</td>\n",
       "      <td>9</td>\n",
       "      <td>17</td>\n",
       "      <td>16</td>\n",
       "      <td>88.888889</td>\n",
       "    </tr>\n",
       "    <tr>\n",
       "      <th>3598</th>\n",
       "      <td>vietnam natl inst culture &amp; arts studies, hano...</td>\n",
       "      <td>9</td>\n",
       "      <td>9</td>\n",
       "      <td>8</td>\n",
       "      <td>80.000000</td>\n",
       "    </tr>\n",
       "    <tr>\n",
       "      <th>3599</th>\n",
       "      <td>vietnam natl univ hanoi, dept math, 334 nguyen...</td>\n",
       "      <td>9</td>\n",
       "      <td>11</td>\n",
       "      <td>9</td>\n",
       "      <td>75.000000</td>\n",
       "    </tr>\n",
       "    <tr>\n",
       "      <th>3605</th>\n",
       "      <td>vnu hus, fac chem, med chem lab, 19 le thanh t...</td>\n",
       "      <td>9</td>\n",
       "      <td>13</td>\n",
       "      <td>13</td>\n",
       "      <td>92.857143</td>\n",
       "    </tr>\n",
       "    <tr>\n",
       "      <th>3623</th>\n",
       "      <td>hanoi univ sci, cetasd, 334 nguyen trai, hanoi...</td>\n",
       "      <td>9</td>\n",
       "      <td>9</td>\n",
       "      <td>9</td>\n",
       "      <td>90.000000</td>\n",
       "    </tr>\n",
       "    <tr>\n",
       "      <th>3625</th>\n",
       "      <td>vietnam natl univ, hanoi univ sci, fac chem, 1...</td>\n",
       "      <td>9</td>\n",
       "      <td>15</td>\n",
       "      <td>13</td>\n",
       "      <td>81.250000</td>\n",
       "    </tr>\n",
       "    <tr>\n",
       "      <th>3631</th>\n",
       "      <td>vietnam natl univ, coll educ, crisp, hanoi, vi...</td>\n",
       "      <td>9</td>\n",
       "      <td>8</td>\n",
       "      <td>7</td>\n",
       "      <td>77.777778</td>\n",
       "    </tr>\n",
       "    <tr>\n",
       "      <th>3633</th>\n",
       "      <td>vietnam natl univ, univ social sci &amp; humanitie...</td>\n",
       "      <td>9</td>\n",
       "      <td>21</td>\n",
       "      <td>19</td>\n",
       "      <td>86.363636</td>\n",
       "    </tr>\n",
       "    <tr>\n",
       "      <th>3642</th>\n",
       "      <td>vietnam natl univ, univ engn &amp; technol, human ...</td>\n",
       "      <td>9</td>\n",
       "      <td>13</td>\n",
       "      <td>12</td>\n",
       "      <td>85.714286</td>\n",
       "    </tr>\n",
       "    <tr>\n",
       "      <th>3644</th>\n",
       "      <td>vnu univ social sci &amp; humanities, block d,336 ...</td>\n",
       "      <td>9</td>\n",
       "      <td>12</td>\n",
       "      <td>12</td>\n",
       "      <td>92.307692</td>\n",
       "    </tr>\n",
       "    <tr>\n",
       "      <th>3648</th>\n",
       "      <td>hanoi univ sci, dept math, hanoi, vietnam</td>\n",
       "      <td>9</td>\n",
       "      <td>7</td>\n",
       "      <td>7</td>\n",
       "      <td>87.500000</td>\n",
       "    </tr>\n",
       "    <tr>\n",
       "      <th>3649</th>\n",
       "      <td>vnu, univ engn technol, fac elect &amp; telecommun...</td>\n",
       "      <td>9</td>\n",
       "      <td>10</td>\n",
       "      <td>10</td>\n",
       "      <td>90.909091</td>\n",
       "    </tr>\n",
       "    <tr>\n",
       "      <th>3652</th>\n",
       "      <td>vietnam natl univ, hanoi univ sci, fac geol, 3...</td>\n",
       "      <td>9</td>\n",
       "      <td>13</td>\n",
       "      <td>12</td>\n",
       "      <td>85.714286</td>\n",
       "    </tr>\n",
       "    <tr>\n",
       "      <th>3654</th>\n",
       "      <td>vnu univ sci hanoi vnu hus, fac chem, 79 le th...</td>\n",
       "      <td>9</td>\n",
       "      <td>14</td>\n",
       "      <td>13</td>\n",
       "      <td>86.666667</td>\n",
       "    </tr>\n",
       "  </tbody>\n",
       "</table>\n",
       "<p>445 rows × 5 columns</p>\n",
       "</div>"
      ],
      "text/plain": [
       "                                                content label  num_words  \\\n",
       "1097  hanoi natl univ, dept phys, coll nat sci, 334 ...     9         13   \n",
       "1100  vnu univ engn & technol uet, vnu, 144 xuan thu...     9         12   \n",
       "1101  vietnam natl univ, vnu univ sci, dept biochem ...     9         20   \n",
       "1102  vietnam natl univ, vnu univ engn & technol, fa...     9         18   \n",
       "1109  vietnam natl univ, univ sci, hanoi 100000, vie...     9          8   \n",
       "1123  vnu hanoi univ sci, fac chem, 19 le thanh tong...     9         12   \n",
       "1124  vietnam natl univ, vnu univ sci, fac phys, han...     9         10   \n",
       "1137  vnu univ engn & technol, fac engn phys & nanot...     9         15   \n",
       "1153  vnu univ sci, fac biol, natl key lab enzyme & ...     9         14   \n",
       "1164             vietnam natl univ, ifi, hanoi, vietnam     9          6   \n",
       "1165  hanoi natl univ, univ nat sci, fac phys, hanoi...     9         10   \n",
       "1183  hanoi natl univ, informat technol inst, 144 xu...     9         12   \n",
       "1189  vietnam natl univ, univ econ & business, fac i...     9         14   \n",
       "1192  vietnam natl univ hanoi vnu, vnu univ sci, fac...     9         16   \n",
       "1195           vietnam natl univ, crisp, hanoi, vietnam     9          6   \n",
       "1196  vnu univ engn & technol, 144 xuan thuy, hanoi,...     9         10   \n",
       "1197  vietnam natl univ, ctr nat resources & environ...     9         11   \n",
       "1198         vietnam natl univ, int sch, hanoi, vietnam     9          7   \n",
       "1202  vietnam natl univ, fac int studies, hanoi, vie...     9          8   \n",
       "1203  vnu univ sci, natl key lab enzyme & prot techn...     9         15   \n",
       "1211  hanoi univ sci, dept math, 334 nguyen trai, ha...     9         10   \n",
       "1220  vietnam natl univ hanoi, hmi lab, univ engn & ...     9         12   \n",
       "1226  hanoi univ sci, dept phys, 334 nguyen trai, ha...     9         11   \n",
       "1227  vietnam natl univ hanoi, dept math, hanoi, vie...     9          8   \n",
       "1236  vnu hanoi univ engn & technol uet, adv mat & s...     9         16   \n",
       "1237  vietnam natl univ, dept clin psychol, hanoi, v...     9          8   \n",
       "1245  vietnam natl univ, vnu univ engn & technol, vn...     9         19   \n",
       "1247  vietnam natl univ, fac chem, 19 le thanh tong ...     9         13   \n",
       "1257  hanoi natl univ, ctr nat resources & environm ...     9         15   \n",
       "1261  vnu key lab geoenvironm & climate change respo...     9         10   \n",
       "...                                                 ...   ...        ...   \n",
       "3498  vietnam natl univ hanoi, int sch, 144 xuan thu...     9         11   \n",
       "3502  vietnam natl univ, dept math mech & informat, ...     9         14   \n",
       "3504  vnu univ engn & technol, dept software engn, h...     9         10   \n",
       "3511  vnu univ engn & technol, sis lab, 144 xuan thu...     9         13   \n",
       "3514                   144 xuan thuy st, hanoi, vietnam     9          6   \n",
       "3520  vietnam natl univ, dept engn mech & automat, h...     9         14   \n",
       "3528  vnu univ engn & technol, 144 xuan thuy str, ha...     9         11   \n",
       "3529  vnu univ econ & business, fac polit econ, hano...     9         10   \n",
       "3535  vietnam natl univ, dept meteorol & climate cha...     9         13   \n",
       "3537  vnu univ sci vietnam natl univ, fac chem, 19 l...     9         14   \n",
       "3542  vietnam natl univ, adv mat & struct lab, univ ...     9         17   \n",
       "3547  hanoi univ sci, ctr environm technol & sustain...     9         14   \n",
       "3555                     hanoi univ sci, hanoi, vietnam     9          5   \n",
       "3558  vnu univ social sci & humanities, dept sociol,...     9         10   \n",
       "3562  vietnam natl univ, dept polit econ, hanoi, vie...     9          8   \n",
       "3570  vnu univ sci, fac environm sci, dept environm ...     9         14   \n",
       "3572  vietnam natl univ, coll sci, key lab enzyme & ...     9         17   \n",
       "3598  vietnam natl inst culture & arts studies, hano...     9          9   \n",
       "3599  vietnam natl univ hanoi, dept math, 334 nguyen...     9         11   \n",
       "3605  vnu hus, fac chem, med chem lab, 19 le thanh t...     9         13   \n",
       "3623  hanoi univ sci, cetasd, 334 nguyen trai, hanoi...     9          9   \n",
       "3625  vietnam natl univ, hanoi univ sci, fac chem, 1...     9         15   \n",
       "3631  vietnam natl univ, coll educ, crisp, hanoi, vi...     9          8   \n",
       "3633  vietnam natl univ, univ social sci & humanitie...     9         21   \n",
       "3642  vietnam natl univ, univ engn & technol, human ...     9         13   \n",
       "3644  vnu univ social sci & humanities, block d,336 ...     9         12   \n",
       "3648          hanoi univ sci, dept math, hanoi, vietnam     9          7   \n",
       "3649  vnu, univ engn technol, fac elect & telecommun...     9         10   \n",
       "3652  vietnam natl univ, hanoi univ sci, fac geol, 3...     9         13   \n",
       "3654  vnu univ sci hanoi vnu hus, fac chem, 79 le th...     9         14   \n",
       "\n",
       "      num_unique_words  words_vs_unique  \n",
       "1097                13        92.857143  \n",
       "1100                12        92.307692  \n",
       "1101                19        90.476190  \n",
       "1102                15        78.947368  \n",
       "1109                 7        77.777778  \n",
       "1123                12        92.307692  \n",
       "1124                 9        81.818182  \n",
       "1137                13        81.250000  \n",
       "1153                14        93.333333  \n",
       "1164                 5        71.428571  \n",
       "1165                10        90.909091  \n",
       "1183                12        92.307692  \n",
       "1189                12        80.000000  \n",
       "1192                13        76.470588  \n",
       "1195                 5        71.428571  \n",
       "1196                10        90.909091  \n",
       "1197                10        83.333333  \n",
       "1198                 6        75.000000  \n",
       "1202                 7        77.777778  \n",
       "1203                15        93.750000  \n",
       "1211                10        90.909091  \n",
       "1220                 9        69.230769  \n",
       "1226                10        83.333333  \n",
       "1227                 6        66.666667  \n",
       "1236                15        88.235294  \n",
       "1237                 7        77.777778  \n",
       "1245                16        80.000000  \n",
       "1247                12        85.714286  \n",
       "1257                15        93.750000  \n",
       "1261                10        90.909091  \n",
       "...                ...              ...  \n",
       "3498                 9        75.000000  \n",
       "3502                13        86.666667  \n",
       "3504                10        90.909091  \n",
       "3511                13        92.857143  \n",
       "3514                 6        85.714286  \n",
       "3520                13        86.666667  \n",
       "3528                11        91.666667  \n",
       "3529                10        90.909091  \n",
       "3535                12        85.714286  \n",
       "3537                13        86.666667  \n",
       "3542                15        83.333333  \n",
       "3547                14        93.333333  \n",
       "3555                 5        83.333333  \n",
       "3558                10        90.909091  \n",
       "3562                 7        77.777778  \n",
       "3570                12        80.000000  \n",
       "3572                16        88.888889  \n",
       "3598                 8        80.000000  \n",
       "3599                 9        75.000000  \n",
       "3605                13        92.857143  \n",
       "3623                 9        90.000000  \n",
       "3625                13        81.250000  \n",
       "3631                 7        77.777778  \n",
       "3633                19        86.363636  \n",
       "3642                12        85.714286  \n",
       "3644                12        92.307692  \n",
       "3648                 7        87.500000  \n",
       "3649                10        90.909091  \n",
       "3652                12        85.714286  \n",
       "3654                13        86.666667  \n",
       "\n",
       "[445 rows x 5 columns]"
      ]
     },
     "execution_count": 57,
     "metadata": {},
     "output_type": "execute_result"
    }
   ],
   "source": [
    "train[train['label'] == 9]"
   ]
  },
  {
   "cell_type": "code",
   "execution_count": null,
   "metadata": {},
   "outputs": [],
   "source": []
  }
 ],
 "metadata": {
  "kernelspec": {
   "display_name": "Python 3",
   "language": "python",
   "name": "python3"
  },
  "language_info": {
   "codemirror_mode": {
    "name": "ipython",
    "version": 3
   },
   "file_extension": ".py",
   "mimetype": "text/x-python",
   "name": "python",
   "nbconvert_exporter": "python",
   "pygments_lexer": "ipython3",
   "version": "3.6.4"
  }
 },
 "nbformat": 4,
 "nbformat_minor": 2
}
